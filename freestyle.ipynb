{
 "cells": [
  {
   "cell_type": "code",
   "execution_count": 1,
   "id": "db5a9a2f-9edf-4de1-a59d-1054dd41a305",
   "metadata": {},
   "outputs": [
    {
     "data": {
      "text/latex": [
       "$\\displaystyle x^{\\frac{3}{2}}$"
      ],
      "text/plain": [
       "x**(3/2)"
      ]
     },
     "execution_count": 1,
     "metadata": {},
     "output_type": "execute_result"
    }
   ],
   "source": [
    "import sympy\n",
    "from sympy import Rational,symbols\n",
    "x=symbols('x')\n",
    "x**(Rational(3,2))"
   ]
  },
  {
   "cell_type": "code",
   "execution_count": 5,
   "id": "af673cd9-e561-49c0-8a63-5e020f0e96b3",
   "metadata": {},
   "outputs": [
    {
     "data": {
      "text/latex": [
       "$\\displaystyle \\frac{2 x^{\\frac{5}{2}}}{5}$"
      ],
      "text/plain": [
       "2*x**(5/2)/5"
      ]
     },
     "execution_count": 5,
     "metadata": {},
     "output_type": "execute_result"
    }
   ],
   "source": [
    "from sympy import integrate\n",
    "integrate(x**(Rational(3,2)),x)"
   ]
  },
  {
   "cell_type": "code",
   "execution_count": 7,
   "id": "236a38e8-5a82-4df2-82bb-0bbd42cd0c11",
   "metadata": {},
   "outputs": [
    {
     "data": {
      "text/latex": [
       "$\\displaystyle \\frac{8 \\sqrt{2}}{5}$"
      ],
      "text/plain": [
       "8*sqrt(2)/5"
      ]
     },
     "execution_count": 7,
     "metadata": {},
     "output_type": "execute_result"
    }
   ],
   "source": [
    "integrate(x**(Rational(3,2)),(x,0,2))"
   ]
  },
  {
   "cell_type": "code",
   "execution_count": 17,
   "id": "3a85ddc9-1d01-4291-b254-565c1b46ad6f",
   "metadata": {},
   "outputs": [
    {
     "data": {
      "text/latex": [
       "$\\displaystyle 0$"
      ],
      "text/plain": [
       "0"
      ]
     },
     "execution_count": 17,
     "metadata": {},
     "output_type": "execute_result"
    }
   ],
   "source": [
    "from sympy import limit,oo,cos\n",
    "limit(1/x,x,oo)"
   ]
  },
  {
   "cell_type": "code",
   "execution_count": 16,
   "id": "056d1249-9721-4a94-b4dc-7a7d9ec6efc3",
   "metadata": {},
   "outputs": [
    {
     "data": {
      "text/latex": [
       "$\\displaystyle \\left\\langle -1, 1\\right\\rangle$"
      ],
      "text/plain": [
       "AccumBounds(-1, 1)"
      ]
     },
     "execution_count": 16,
     "metadata": {},
     "output_type": "execute_result"
    }
   ],
   "source": [
    "limit(cos(x),x,oo)"
   ]
  },
  {
   "cell_type": "code",
   "execution_count": 21,
   "id": "47e15200-b9ae-486b-9c56-c53218478b27",
   "metadata": {},
   "outputs": [
    {
     "data": {
      "text/latex": [
       "$\\displaystyle \\frac{x}{\\sqrt{x^{2} + 1}}$"
      ],
      "text/plain": [
       "x/sqrt(x**2 + 1)"
      ]
     },
     "execution_count": 21,
     "metadata": {},
     "output_type": "execute_result"
    }
   ],
   "source": [
    "from sympy import diff,sqrt\n",
    "diff(sqrt(x**2+1),x)"
   ]
  },
  {
   "cell_type": "code",
   "execution_count": 22,
   "id": "9d88352b-c408-4ad5-99ce-1eced53f6c84",
   "metadata": {},
   "outputs": [
    {
     "data": {
      "text/latex": [
       "$\\displaystyle 6 x \\left(x^{2} + 1\\right)^{2}$"
      ],
      "text/plain": [
       "6*x*(x**2 + 1)**2"
      ]
     },
     "execution_count": 22,
     "metadata": {},
     "output_type": "execute_result"
    }
   ],
   "source": [
    "diff((x**2+1)**3)"
   ]
  },
  {
   "cell_type": "code",
   "execution_count": 59,
   "id": "767c4155-048f-4ae5-88f2-4b54a5ca47e1",
   "metadata": {},
   "outputs": [],
   "source": [
    "#fit polynomial to real-word data\n",
    "import numpy as np\n",
    "t=np.linspace(0,5,6)\n",
    "A=[2.5,2.8,3.1,3.4,3.5,3.7]\n",
    "poly=np.polyfit(t,A,2)"
   ]
  },
  {
   "cell_type": "code",
   "execution_count": 61,
   "id": "ea74bac7-6954-408d-a35f-ded2fdf508ef",
   "metadata": {},
   "outputs": [
    {
     "name": "stdout",
     "output_type": "stream",
     "text": [
      "[-0.04642857  0.35607143]\n",
      "7.669230769230787\n"
     ]
    },
    {
     "data": {
      "text/plain": [
       "<matplotlib.collections.PathCollection at 0x242a0fe0b90>"
      ]
     },
     "execution_count": 61,
     "metadata": {},
     "output_type": "execute_result"
    },
    {
     "data": {
      "image/png": "[encoded data removed]",
      "text/plain": [
       "<Figure size 640x480 with 1 Axes>"
      ]
     },
     "metadata": {},
     "output_type": "display_data"
    }
   ],
   "source": [
    "#plot our polynomial against the real-world data\n",
    "import matplotlib.pyplot as plt\n",
    "plt.scatter(t,A)\n",
    "x=np.linspace(-5,10,100)\n",
    "y = [np.polyval(poly, i) for i in x]\n",
    "plt.plot(x,y)\n",
    "\n",
    "#differentiate the poly\n",
    "dpoly=np.polyder(poly,1)\n",
    "print(dpoly)\n",
    "\n",
    "y1=[np.polyval(dpoly,i) for i in x]\n",
    "plt.plot(x,y1)\n",
    "\n",
    "#when does dpoly cross the x-axis (i.e. equals to 0?)\n",
    "#from sympy import poly1d\n",
    "zero_crossing_x = np.poly1d(dpoly).roots[0]\n",
    "print(zero_crossing_x)\n",
    "plt.scatter(zero_crossing_x,np.polyval(poly,zero_crossing_x))"
   ]
  },
  {
   "cell_type": "code",
   "execution_count": null,
   "id": "94210e58-3e80-4a6d-b1cc-329c60b22f4e",
   "metadata": {},
   "outputs": [],
   "source": []
  }
 ],
 "metadata": {
  "kernelspec": {
   "display_name": "Python 3 (ipykernel)",
   "language": "python",
   "name": "python3"
  },
  "language_info": {
   "codemirror_mode": {
    "name": "ipython",
    "version": 3
   },
   "file_extension": ".py",
   "mimetype": "text/x-python",
   "name": "python",
   "nbconvert_exporter": "python",
   "pygments_lexer": "ipython3",
   "version": "3.13.3"
  }
 },
 "nbformat": 4,
 "nbformat_minor": 5
}
