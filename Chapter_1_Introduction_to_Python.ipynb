{
  "cells": [
    {
      "cell_type": "markdown",
      "metadata": {
        "id": "view-in-github",
        "colab_type": "text"
      },
      "source": [
        "<a href=\"https://colab.research.google.com/github/vpagonis/CRCbook/blob/main/Chapter_1_Introduction_to_Python.ipynb\" target=\"_parent\"><img src=\"https://colab.research.google.com/assets/colab-badge.svg\" alt=\"Open In Colab\"/></a>"
      ]
    },
    {
      "cell_type": "markdown",
      "metadata": {
        "id": "1iOMZTwIijI-"
      },
      "source": [
        "# Chapter 1 - Introduction to Python"
      ]
    },
    {
      "cell_type": "markdown",
      "metadata": {
        "id": "W8-4n9cBijJA"
      },
      "source": [
        "This notebook contains the code for the example problems found in Chapter 1."
      ]
    },
    {
      "cell_type": "markdown",
      "metadata": {
        "id": "CnRV4MrZijJB"
      },
      "source": [
        "Example 1.1: Variable types in Python"
      ]
    },
    {
      "cell_type": "code",
      "execution_count": null,
      "metadata": {
        "id": "ml17yZfBijJC",
        "outputId": "93122bbe-0d19-4a02-f0c7-fb0618451356"
      },
      "outputs": [
        {
          "name": "stdout",
          "output_type": "stream",
          "text": [
            "---------------------------- CODE OUTPUT ----------------------------- \n",
            "\n",
            "Variable a = 0.0003 belongs to type: <class 'float'>\n",
            "Variable b = 1.64e-4 belongs to type: <class 'float'>\n",
            "Variable c = 10 belongs to type: <class 'int'> \n",
            "\n",
            "A complex number created with complex(3,4)= (3+4j)\n",
            "Variable d = complex(3,4) belongs to type: <class 'complex'> \n",
            "\n",
            "Variable e = 'time' belongs to type: <class 'str'>\n"
          ]
        }
      ],
      "source": [
        "a = 0.00007            #define variables\n",
        "b = 1.64e-4\n",
        "c = 10\n",
        "d = complex(3,4)\n",
        "e = 'time'\n",
        "\n",
        "print('-'*28,'CODE OUTPUT','-'*29,'\\n')\n",
        "print('Variable a = 0.0003 belongs to type:',type(a))\n",
        "print('Variable b = 1.64e-4 belongs to type:',type(b))\n",
        "print('Variable c = 10 belongs to type:',type(c),'\\n')\n",
        "\n",
        "print('A complex number created with complex(3,4)=',d)\n",
        "print('Variable d = complex(3,4) belongs to type:',type(d),'\\n')\n",
        "\n",
        "print(\"Variable e = 'time' belongs to type:\",type(e))"
      ]
    },
    {
      "cell_type": "markdown",
      "metadata": {
        "id": "BPe5kkO6ijJD"
      },
      "source": [
        "Example 1.2: Using f-strings to format Python output"
      ]
    },
    {
      "cell_type": "code",
      "execution_count": null,
      "metadata": {
        "id": "_v4KB4GHijJD",
        "outputId": "95e429ec-670a-40af-97e8-bdb27fe02a48"
      },
      "outputs": [
        {
          "name": "stdout",
          "output_type": "stream",
          "text": [
            "---------------------------- CODE OUTPUT ----------------------------- \n",
            "\n",
            "Without formatting, the variable a=1.6666666666666667 \n",
            "\n",
            "Using scientific notation, the variable a=1.67e+00\n",
            "Without formatting, the square of variable a is 2.777777777777778\n",
            "Using generic notation, the square of variable a is 2.77778 \n",
            "\n",
            "Using two decimals, the variable b=1.645 is      1.6\n",
            "\n",
            "round(a,2) produces  1.67\n",
            "round(b,1) produces  1.6\n"
          ]
        }
      ],
      "source": [
        "a = 5.0/3\t                 #define variables\n",
        "b = 1.645\n",
        "\n",
        "print('-'*28,'CODE OUTPUT','-'*29,'\\n')\n",
        "print(f'Without formatting, the variable a={a}','\\n')\n",
        "print(f'Using scientific notation, the variable a={a:.2e}')\n",
        "\n",
        "print(f'Without formatting, the square of variable a is {a**2}')\n",
        "print(f'Using generic notation, the square of variable a is \\\n",
        "{a**2:g}','\\n')\n",
        "\n",
        "print(f'Using two decimals, the variable b=1.645 is      {b:.2}')\n",
        "\n",
        "print('\\nround(a,2) produces ',round(a,2))\n",
        "print('round(b,1) produces ',round(b,1))"
      ]
    },
    {
      "cell_type": "markdown",
      "metadata": {
        "id": "gU1JsSKoijJE"
      },
      "source": [
        "Example 1.3: Accessing and modifying list elements in Python"
      ]
    },
    {
      "cell_type": "code",
      "execution_count": null,
      "metadata": {
        "id": "aFdfnWCaijJF",
        "outputId": "a7ba243f-437b-4a70-c3e8-7eecfabd804e"
      },
      "outputs": [
        {
          "name": "stdout",
          "output_type": "stream",
          "text": [
            "---------------------------- CODE OUTPUT ----------------------------- \n",
            "\n",
            "list a= [2, [3, 0], 5, [1, 1, 2], 's', [1, 4], 2, 5]\n",
            "the sum of the first and last element is:  7\n",
            "\n",
            "a[2] = -2 modifies list a into \n",
            "a = [2, [3, 0], -2, [1, 1, 2], 's', [1, 4], 2, 5] \n",
            "\n",
            "The a[3][2] element is = 2 \n",
            "\n",
            "The a[2:len(a):2] sequence is = [-2, 's', 2]\n",
            "The a[:5] sequence is = [2, [3, 0], -2, [1, 1, 2], 's']\n",
            "\n",
            "The a[1]+a[3] sequence is = [3, 0, 1, 1, 2]\n",
            "The a[1]*3 sequence is = [3, 0, 3, 0, 3, 0]\n"
          ]
        }
      ],
      "source": [
        "a = [2,[3,0],5,[1,1,2],'s',[1,4],2,5] # define list a\n",
        "print('-'*28,'CODE OUTPUT','-'*29,'\\n')\n",
        "\n",
        "print('list a=',a)\n",
        "\n",
        "print('the sum of the first and last element is: ',a[0]+a[-1])\n",
        "\n",
        "a[2] = -2\n",
        "print('\\na[2] = -2 modifies list a into \\na =',a,'\\n')\n",
        "\n",
        "print('The a[3][2] element is =', a[3][2],'\\n')\n",
        "print('The a[2:len(a):2] sequence is =',a[2:len(a):2])\n",
        "print('The a[:5] sequence is =',a[:5])\n",
        "\n",
        "print('\\nThe a[1]+a[3] sequence is =',a[1]+a[3])\n",
        "print('The a[1]*3 sequence is =',a[1]*3)"
      ]
    },
    {
      "cell_type": "markdown",
      "metadata": {
        "id": "vFMZNIX8ijJF"
      },
      "source": [
        "Example 1.4: Shallow and deep copies of objects"
      ]
    },
    {
      "cell_type": "code",
      "execution_count": null,
      "metadata": {
        "id": "gJE6mXUPijJG",
        "outputId": "0c9caa5a-e516-4a63-f116-f4e97d041705"
      },
      "outputs": [
        {
          "name": "stdout",
          "output_type": "stream",
          "text": [
            "---------------------------- CODE OUTPUT ----------------------------- \n",
            "\n",
            "Example A: Effect of d = c statement\n",
            "old_c =  [1, [2, 3], 4]\n",
            "d[1] = 0\n",
            "new_c =  [1, 0, 4]   new_d =  [1, 0, 4]\n",
            "\n",
            "Example B: Shallow copy, modify inner element d[1][1]\n",
            "old_c =  [1, [2, 3], 4]\n",
            "d[1][1] = 0\n",
            "new_c =  [1, [2, 0], 4]   new_d =  [1, [2, 0], 4]\n",
            "\n",
            "Example C: Deep copy, modify inner element d[1][1]\n",
            "old_c =  [1, [2, 3], 4]\n",
            "d[1][1] = 0\n",
            "new_c =  [1, [2, 3], 4]   new_d =  [1, [2, 0], 4]\n"
          ]
        }
      ],
      "source": [
        "import copy\n",
        "print('-'*28,'CODE OUTPUT','-'*29,'\\n')\n",
        "\n",
        "#Example A:\n",
        "print('Example A: Effect of d = c statement')\n",
        "c = [1,[2,3],4]\n",
        "print('old_c = ',c)\n",
        "d = c\n",
        "d[1] = 0\n",
        "print('d[1] = 0')   # modifies both the shallow copy d and the original c\n",
        "print('new_c = ',c,'  new_d = ',d)\n",
        "\n",
        "#Example B:\n",
        "print('\\nExample B: Shallow copy, modify inner element d[1][1]')\n",
        "c = [1,[2,3],4]\n",
        "print('old_c = ',c)\n",
        "d=c.copy()\n",
        "d[1][1] = 0\n",
        "print('d[1][1] = 0') # modifies the shallow copy d, and the original c\n",
        "print('new_c = ',c,'  new_d = ',d)\n",
        "\n",
        "#Example C:\n",
        "print('\\nExample C: Deep copy, modify inner element d[1][1]')\n",
        "c = [1,[2,3],4]\n",
        "print('old_c = ',c)\n",
        "d=copy.deepcopy(c)\n",
        "d[1][1] = 0\n",
        "print('d[1][1] = 0') # modifies the deep copy d, but not the original c\n",
        "print('new_c = ',c,'  new_d = ',d)"
      ]
    },
    {
      "cell_type": "markdown",
      "metadata": {
        "id": "3g7gnxUfijJG"
      },
      "source": [
        "Example 1.5: Using the range() function"
      ]
    },
    {
      "cell_type": "code",
      "execution_count": null,
      "metadata": {
        "id": "fyFeSQcwijJG",
        "outputId": "5517182b-5832-4f33-d559-c17c2719aed0"
      },
      "outputs": [
        {
          "name": "stdout",
          "output_type": "stream",
          "text": [
            "---------------------------- CODE OUTPUT ----------------------------- \n",
            "\n",
            "Define the range sequence a =  range(1, 7, 2) \n",
            "\n",
            "list(a) gives:  [1, 3, 5] \n",
            "\n",
            "The length of the range sequence a is =  3\n",
            "The sum of elements in the range sequence a is =  9\n",
            "The maximum of the range sequence a is =  5\n",
            "Unpack the sequence [3,'s'], to get: c =  3   d =  s \n",
            "\n",
            "The list comprehension e =  [1, 8, 27]\n",
            "The list comprehension f =  [0, 1, 2, 0, 1, 2, 0, 1, 2, 0, 1, 2] \n",
            "\n"
          ]
        }
      ],
      "source": [
        "a = range(1,7,2)\n",
        "print('-'*28,'CODE OUTPUT','-'*29,'\\n')\n",
        "print('Define the range sequence a = ',a,'\\n')\n",
        "# print(a) does not print the elements of the range() object\n",
        "\n",
        "print('list(a) gives: ',list(a),'\\n')\n",
        "# Use list(a) to convert the range into a list, then print elements\n",
        "\n",
        "print('The length of the range sequence a is = ',len(a))\n",
        "print('The sum of elements in the range sequence a is = ',sum(a))\n",
        "print('The maximum of the range sequence a is = ',max(a))\n",
        "\n",
        "c, d = [3,'s']                 # unpacking a sequence\n",
        "print(\"Unpack the sequence [3,'s'], to get: c = \",c,'  d = ',d,'\\n')\n",
        "\n",
        "e = [u**3 for u in [1,2,3]]   # a list comprehension\n",
        "print('The list comprehension e = ',e)\n",
        "\n",
        "f = [x%3 for x in range(0,12)]  # another list comprehension\n",
        "print('The list comprehension f = ',f,'\\n')"
      ]
    },
    {
      "cell_type": "markdown",
      "metadata": {
        "id": "lMteUWynijJH"
      },
      "source": [
        "Example 1.6: A simple function in Python, and a FOR loop"
      ]
    },
    {
      "cell_type": "code",
      "execution_count": null,
      "metadata": {
        "id": "IQpAbluXijJH",
        "outputId": "9cf87f93-9bfe-4b6f-c1ec-a6ad886ccc6c"
      },
      "outputs": [
        {
          "name": "stdout",
          "output_type": "stream",
          "text": [
            "---------------------------- CODE OUTPUT ----------------------------- \n",
            "\n",
            "position y(t) =  [0.0, 2.0, 6.0, 12.0]\n"
          ]
        }
      ],
      "source": [
        "print('-'*28,'CODE OUTPUT','-'*29,'\\n')\n",
        "def f(vo,a,t):               # define function f\n",
        "    y = vo*t+a*t**2/2        # functions require indentation\n",
        "    return y                 # return the variable y to the calling code\n",
        "\n",
        "ypos = []                    # empty list ypos\n",
        "for t in range(4):           # for loops require indentation\n",
        "    ypos.append(f(1,2,t))    # add value of f to the list ypos\n",
        "\n",
        "print('position y(t) = ',ypos)"
      ]
    },
    {
      "cell_type": "markdown",
      "metadata": {
        "id": "Z-X9Fox0ijJH"
      },
      "source": [
        "Example 1.7: A lambda function"
      ]
    },
    {
      "cell_type": "code",
      "execution_count": null,
      "metadata": {
        "id": "Q9GJAXNkijJH",
        "outputId": "a272f55b-a440-44be-8564-f996dfb8c148"
      },
      "outputs": [
        {
          "name": "stdout",
          "output_type": "stream",
          "text": [
            "---------------------------- CODE OUTPUT ----------------------------- \n",
            "\n",
            "position y(t) =  [0.0, 4.0, 10.0, 18.0]\n"
          ]
        }
      ],
      "source": [
        "print('-'*28,'CODE OUTPUT','-'*29,'\\n')\n",
        "vo, a = 1, 2                      # global variables vo, a\n",
        "f = lambda t: vo*t+a*t+a*t**2/2   # define lambda function f(t)\n",
        "\n",
        "ypos = []                         # empty list ypos\n",
        "\n",
        "for t in range(4):                # for loops require indentation\n",
        "    ypos.append(f(t))             # add value of f to the list ypos\n",
        "\n",
        "print('position y(t) = ',ypos)"
      ]
    },
    {
      "cell_type": "markdown",
      "metadata": {
        "id": "9iLUxCsUijJH"
      },
      "source": [
        "Example 1.8: A conditional loop"
      ]
    },
    {
      "cell_type": "code",
      "execution_count": null,
      "metadata": {
        "id": "uqX0UpizijJH",
        "outputId": "f756129d-bf24-46bc-e450-5e10ad7c8026"
      },
      "outputs": [
        {
          "name": "stdout",
          "output_type": "stream",
          "text": [
            "---------------------------- CODE OUTPUT ----------------------------- \n",
            "\n",
            "position y(t) =  [0.0, 2.0, 6.0]\n"
          ]
        }
      ],
      "source": [
        "print('-'*28,'CODE OUTPUT','-'*29,'\\n')\n",
        "\n",
        "vo, a = 1, 2                  # global variables xo, vo, a\n",
        "f = lambda t: vo*t+a*t**2/2   # define lambda function f(t)\n",
        "\n",
        "\n",
        "ypos = []                       # empty list ypos\n",
        "\n",
        "for t in range(4):            # for loops require indentation\n",
        "    if f(t)<7:                # if statements require indentation\n",
        "        ypos.append(f(t))     # if f(t)<7 is true, then add value\n",
        "                              # of f(t) to the list ypos\n",
        "\n",
        "print('position y(t) = ',ypos)"
      ]
    },
    {
      "cell_type": "markdown",
      "metadata": {
        "id": "3KcwJ_9lijJH"
      },
      "source": [
        "Example 1.9: Named variables in functions"
      ]
    },
    {
      "cell_type": "code",
      "execution_count": null,
      "metadata": {
        "id": "L5vVciLoijJH",
        "outputId": "ef036633-beca-4f6f-9d63-dc26310f319a"
      },
      "outputs": [
        {
          "name": "stdout",
          "output_type": "stream",
          "text": [
            "---------------------------- CODE OUTPUT ----------------------------- \n",
            "\n",
            "Using three calling parameters, position y(t)= [0.0, 2.5, 8.0, 16.5]\n",
            "Using two calling parameters, position y(t)=   [0.0, 2.0, 6.0, 12.0]\n"
          ]
        }
      ],
      "source": [
        "def f(vo,t,a=2):              # define function f with default a=2\n",
        "    y = vo*t+a*t**2/2\n",
        "    return y\n",
        "\n",
        "ypos, ypos2 = [], []          # empty lists\n",
        "\n",
        "for t in range(4):            # for loop evaluates function f twice\n",
        "    ypos2.append(f(1,t))      # call f with 2 arguments and default a=2\n",
        "    ypos.append(f(1,t,3))     # call f with 3 arguments and a=3\n",
        "print('-'*28,'CODE OUTPUT','-'*29,'\\n')\n",
        "\n",
        "print('Using three calling parameters, position y(t)=',ypos)\n",
        "print('Using two calling parameters, position y(t)=  ',ypos2)"
      ]
    },
    {
      "cell_type": "markdown",
      "metadata": {
        "id": "M9r7s3b8ijJI"
      },
      "source": [
        "Example 1.10: Importing libraries"
      ]
    },
    {
      "cell_type": "code",
      "execution_count": null,
      "metadata": {
        "id": "POaSttlsijJI",
        "outputId": "407f88dc-cbd0-494b-e823-c032933c1d97"
      },
      "outputs": [
        {
          "name": "stdout",
          "output_type": "stream",
          "text": [
            "---------------------------- CODE OUTPUT ----------------------------- \n",
            "\n",
            "Using NumPy function, result is:  0.8775825618903728\n",
            "Using np shorthand notation, result is:  0.8775825618903728\n",
            "Importing just the NumPy function, result is:  0.8775825618903728\n",
            "Importing all NumPy functions, result is:  0.8775825618903728\n"
          ]
        }
      ],
      "source": [
        "print('-'*28,'CODE OUTPUT','-'*29,'\\n')\n",
        "\n",
        "import numpy           # method 1: use name.function() syntax\n",
        "print('Using NumPy function, result is: ', numpy.cos(0.5))\n",
        "\n",
        "import numpy as np     # method 2: use alias np, instead of numpy\n",
        "print('Using np shorthand notation, result is: ', np.cos(0.5))\n",
        "\n",
        "from numpy import cos  # method 3: import only function cos() from numpy\n",
        "print('Importing just the NumPy function, result is: ', cos(0.5))\n",
        "\n",
        "from numpy import *    # method 4: import all necessary from numpy\n",
        "print('Importing all NumPy functions, result is: ', cos(0.5))"
      ]
    },
    {
      "cell_type": "markdown",
      "metadata": {
        "id": "KEb0wmW2ijJI"
      },
      "source": [
        "Example 1.11: Creating arrays in Python"
      ]
    },
    {
      "cell_type": "code",
      "execution_count": null,
      "metadata": {
        "id": "ciNOj6H5ijJI",
        "outputId": "c738e092-6c54-4c43-92f4-0788a576ea2f"
      },
      "outputs": [
        {
          "name": "stdout",
          "output_type": "stream",
          "text": [
            "---------------------------- CODE OUTPUT ----------------------------- \n",
            "\n",
            "printing the list [1,2,3]:             [1, 2, 3]\n",
            "printing the array np.array([1,2,3]):  [1 2 3] \n",
            "\n",
            "np.arange(5) gives:  [0 1 2 3 4]\n",
            "np.arange(0,3.5,.5) gives:  [0.  0.5 1.  1.5 2.  2.5 3. ] \n",
            "\n",
            "np.linspace(0,8,6) gives:  [0.  1.6 3.2 4.8 6.4 8. ] \n",
            "\n",
            "array with zeros:  [0. 0. 0. 0. 0.]\n",
            "array with ones:  [[1.]\n",
            " [1.]] \n",
            "\n",
            "array with random values:  [[0.95908933 0.67860129]]\n"
          ]
        }
      ],
      "source": [
        "import numpy as np\n",
        "print('-'*28,'CODE OUTPUT','-'*29,'\\n')\n",
        "print('printing the list [1,2,3]:            ',[1,2,3])\n",
        "print('printing the array np.array([1,2,3]): ',np.array([1,2,3]),'\\n')\n",
        "\n",
        "print('np.arange(5) gives: ',np.arange(5))\n",
        "print('np.arange(0,3.5,.5) gives: ',np.arange(0,3.2,.5),'\\n')\n",
        "# array from 0 to 3.5 steps 0.5 (excluding 7)\n",
        "\n",
        "print('np.linspace(0,8,6) gives: ',np.linspace(0,8,6),'\\n')\n",
        "# create array with 6 values between 0 and 8\n",
        "\n",
        "print('array with zeros: ',np.zeros(5))  # generate array with 5 zeros\n",
        "print('array with ones: ',np.ones([2,1]),'\\n')\n",
        "# generate two rows and one column, with ones\n",
        "\n",
        "print('array with random values: ',np.random.random([1,2]))\n",
        "# generate random numbers in one row and two columns, in interval (0,1)"
      ]
    },
    {
      "cell_type": "markdown",
      "metadata": {
        "id": "6zxLwlggijJI"
      },
      "source": [
        "Example 1.12: Attributes of Nympy  arrays"
      ]
    },
    {
      "cell_type": "code",
      "execution_count": null,
      "metadata": {
        "id": "igBhIILcijJI",
        "outputId": "54c2067e-f0dd-473a-b55d-28349fe8177a"
      },
      "outputs": [
        {
          "name": "stdout",
          "output_type": "stream",
          "text": [
            "---------------------------- CODE OUTPUT ----------------------------- \n",
            "\n",
            "A =  [[1 2 3]\n",
            " [4 5 6]]\n",
            "Data type of A is:  int64 \n",
            "\n",
            "u =  [0.   0.25 0.5  0.75 1.  ]\n",
            "Data type of u is:  int64 \n",
            "\n",
            "A =  [[1 2 3]\n",
            " [3 4 5]]\n",
            "dimension of A is: 2\n",
            "shape of A is:  (2, 3)\n",
            "size of A is:  6\n"
          ]
        }
      ],
      "source": [
        "print('-'*28,'CODE OUTPUT','-'*29,'\\n')\n",
        "A = np.array([[1,2,3],[4,5,6]])\n",
        "print('A = ',A)\n",
        "print('Data type of A is: ', A.dtype,'\\n')\n",
        "\n",
        "u = np.linspace(0,1,5)\n",
        "print('u = ',u)\n",
        "print('Data type of u is: ', A.dtype,'\\n')\n",
        "\n",
        "A = np.array([[1,2,3],[3,4,5]])\n",
        "print('A = ',A)\n",
        "print('dimension of A is:', A.ndim)\n",
        "print('shape of A is: ', A.shape)\n",
        "print('size of A is: ', A.size)"
      ]
    },
    {
      "cell_type": "markdown",
      "metadata": {
        "id": "e2mhNuEOijJJ"
      },
      "source": [
        "Example 1.13: Arithmetic operations on arrays- Broadcasting"
      ]
    },
    {
      "cell_type": "code",
      "execution_count": null,
      "metadata": {
        "id": "5EYTMkUQijJJ",
        "outputId": "4cbe1165-971e-4385-be4b-17b7c52a474c"
      },
      "outputs": [
        {
          "name": "stdout",
          "output_type": "stream",
          "text": [
            "---------------------------- CODE OUTPUT ----------------------------- \n",
            "\n",
            "mean of elements in array a =  2.0\n",
            "std dev of elements in array a =  0.816496580927726\n",
            "max of elements in array a =  3\n",
            "sum of elements in array a =  6 \n",
            "\n",
            "a + b =  [5 7 9]\n",
            "a * b =  [ 4 10 18] \n",
            "\n",
            "1 + a**2 =  [ 2  5 10] \n",
            "\n",
            "matrix M = [[2 4 2]\n",
            " [2 1 1]\n",
            " [3 2 0]] \n",
            "\n",
            "sum of elements of M along axis=0 (rows) =  [7 7 3]\n",
            "sum of elements of M along axis=1 (columns) =  [8 4 5]\n"
          ]
        }
      ],
      "source": [
        "import numpy as np\n",
        "print('-'*28,'CODE OUTPUT','-'*29,'\\n')\n",
        "\n",
        "a = np.array([1,2,3])\n",
        "b = np.array([4,5,6])\n",
        "M = np.array([[2,4,2],[2,1,1],[3,2,0]])\n",
        "\n",
        "#Part 1\n",
        "print('mean of elements in array a = ',np.mean(a))\n",
        "print('std dev of elements in array a = ',np.std(a))\n",
        "print('max of elements in array a = ',np.max(a))\n",
        "print('sum of elements in array a = ',np.sum(a),'\\n')\n",
        "\n",
        "#Part 2\n",
        "print('a + b = ' , a+b)\n",
        "print('a * b = ', a*b, '\\n')\n",
        "\n",
        "#Part 3\n",
        "print('1 + a**2 = ', 1 + a**2,'\\n')\n",
        "\n",
        "#Part 4\n",
        "print('matrix M =',M,'\\n')\n",
        "print('sum of elements of M along axis=0 (rows) = ',np.sum(M,axis=0))\n",
        "print('sum of elements of M along axis=1 (columns) = ',np.sum(M,axis=1))"
      ]
    },
    {
      "cell_type": "markdown",
      "metadata": {
        "id": "HjZ2FlTxijJJ"
      },
      "source": [
        "Example 1.14: Indexing and slicing of NymPy  arrays"
      ]
    },
    {
      "cell_type": "code",
      "execution_count": null,
      "metadata": {
        "id": "BQZlgMtgijJJ",
        "outputId": "bb982a8f-734a-4784-c545-0d66037b7845"
      },
      "outputs": [
        {
          "name": "stdout",
          "output_type": "stream",
          "text": [
            "---------------------------- CODE OUTPUT ----------------------------- \n",
            "\n",
            "array v = \n",
            "\n",
            "array([[1, 2, 3],\n",
            "       [4, 5, 6],\n",
            "       [7, 8, 9]])\n",
            "third element v[2] =  [7 8 9] \n",
            "\n",
            "element at row index 1 and column index 2= 4\n",
            "element v[1,0] =  4\n",
            "last element v[-1,-1] =  9 \n",
            "\n",
            "row with index 0 =  [1 4 7]\n",
            "column with index 2 =  [7 8 9] \n",
            "\n",
            "array x =  [1 1 1]\n",
            "array y =  [2 2 2]\n",
            "vertical stack of x,y,x =  [[1 1 1]\n",
            " [2 2 2]\n",
            " [1 1 1]]\n",
            "horizontal stack of x,y,x =  [1 1 1 2 2 2 1 1 1]\n"
          ]
        }
      ],
      "source": [
        "import numpy as np\n",
        "print('-'*28,'CODE OUTPUT','-'*29,'\\n')\n",
        "import pprint\n",
        "pp = pprint.PrettyPrinter(width=41, compact=True)\n",
        "\n",
        "v = np.array([[1,2,3],[4,5,6],[7,8,9]])\n",
        "\n",
        "print('array v = \\n')\n",
        "pp.pprint(v)\n",
        "\n",
        "print('third element v[2] = ',v[2],'\\n')\n",
        "\n",
        "print('element at row index 1 and column index 2=',v[1][0])\n",
        "print('element v[1,0] = ',v[1,0])\n",
        "print('last element v[-1,-1] = ',v[-1,-1],'\\n')\n",
        "\n",
        "print('row with index 0 = ',v[:,0])\n",
        "print('column with index 2 = ',v[2,:],'\\n')\n",
        "\n",
        "x = np.array([1,1,1])\n",
        "y = np.array([2,2,2])\n",
        "print('array x = ',x)\n",
        "print('array y = ',y)\n",
        "print('vertical stack of x,y,x = ',np.vstack((x,y,x)))\n",
        "print('horizontal stack of x,y,x = ',np.hstack((x,y,x)))"
      ]
    },
    {
      "cell_type": "markdown",
      "metadata": {
        "id": "TRyCxBLjijJJ"
      },
      "source": [
        "Example 1.15: Example of plot and numerical evaluation"
      ]
    },
    {
      "cell_type": "code",
      "execution_count": null,
      "metadata": {
        "id": "eMLhdV6xijJJ",
        "outputId": "f38a93a2-266f-4dcc-895b-08b97043c1b1"
      },
      "outputs": [
        {
          "name": "stdout",
          "output_type": "stream",
          "text": [
            "---------------------------- CODE OUTPUT ----------------------------- \n",
            "\n",
            "Max height reached =  1.2755  m\n",
            "Time to reach ymax =  0.5098  s\n"
          ]
        },
        {
          "data": {
            "text/plain": [
              "<Figure size 640x480 with 1 Axes>"
            ]
          },
          "metadata": {},
          "output_type": "display_data"
        }
      ],
      "source": [
        "print('-'*28,'CODE OUTPUT','-'*29,'\\n')\n",
        "import numpy as np\n",
        "import matplotlib.pyplot as plt\n",
        "vo, g = 5, 9.8                 # define values of vo, g\n",
        "\n",
        "t = np.linspace(0,1.03,100)    # create sequence of times\n",
        "y = [vo*u-g*u**2/2 for u in t] # create sequence of positions, plot y(t)\n",
        "\n",
        "plt.plot(t,y)\n",
        "\n",
        "plt.title('Ball thrown straight up')\n",
        "plt.ylabel('Vertical distance y(t)')\n",
        "plt.xlabel('Time t [s]')\n",
        "\n",
        "ymax = max(y)                    # find position ymax\n",
        "tmax = t[np.argmax(y)]           # find time tmax\n",
        "\n",
        "print('Max height reached = ',f'{ymax:.4f}', ' m')\n",
        "print('Time to reach ymax = ',f'{tmax:.4f}',' s')\n",
        "\n",
        "plt.show()"
      ]
    },
    {
      "cell_type": "markdown",
      "metadata": {
        "id": "9gWiGelAijJJ"
      },
      "source": [
        "Example 1.16: Graphics: Plotting a surface z=f(x,y)"
      ]
    },
    {
      "cell_type": "code",
      "execution_count": null,
      "metadata": {
        "id": "COXb3pAUijJJ",
        "outputId": "accf5d35-92f4-4adf-e2d9-12ff08d9603b"
      },
      "outputs": [
        {
          "data": {
            "image/png": "[encoded data removed]",
            "text/plain": [
              "<Figure size 640x480 with 1 Axes>"
            ]
          },
          "metadata": {},
          "output_type": "display_data"
        }
      ],
      "source": [
        "import numpy as np\n",
        "import matplotlib.pyplot as plt\n",
        "\n",
        "# surface plot for z=3+x+y\n",
        "x = np.arange(-3, 3, 0.6)    # grid of points on x-axis\n",
        "X, Y = np.meshgrid(x, x)     # grid of points on xy-plane\n",
        "Z= 3+X+Y                     # values of z for points on the xy-grid\n",
        "\n",
        "# define the objects fig and axes for 3D plotting\n",
        "fig = plt.figure()\n",
        "axes = fig.add_subplot(projection ='3d')\n",
        "\n",
        "# plot 3D surface\n",
        "axes.plot_wireframe(X, Y, Z, color='skyblue')\n",
        "\n",
        "axes.set_xlabel('X')        # labels for x,y,z axes\n",
        "axes.set_ylabel('Y')\n",
        "axes.set_zlabel('Z')\n",
        "\n",
        "axes.text(-2.6,2,6,'z=f(x,y)=3+x+y')  # add text to the plot\n",
        "\n",
        "plt.show()"
      ]
    },
    {
      "cell_type": "markdown",
      "metadata": {
        "id": "9FozxF2SijJJ"
      },
      "source": [
        "Example 1.17: Example of symbolic evaluation"
      ]
    },
    {
      "cell_type": "code",
      "execution_count": null,
      "metadata": {
        "id": "tW1tSQMxijJJ",
        "outputId": "0d7c4b27-4525-479e-a494-039ec0f1a118"
      },
      "outputs": [
        {
          "name": "stdout",
          "output_type": "stream",
          "text": [
            "---------------------------- CODE OUTPUT ----------------------------- \n",
            "\n",
            "Time to reach max height= vo/g\n",
            "Max height reached =  vo**2/(2*g)\n"
          ]
        }
      ],
      "source": [
        "from sympy import  symbols, solve\n",
        "print('-'*28,'CODE OUTPUT','-'*29,'\\n')\n",
        "\n",
        "vo, t,  g = symbols('vo, t,  g ',real=True)   # define variables\n",
        "\n",
        "tmax = solve(vo-g*t,t)[0]\n",
        "# solve equation for tmax symbolically\n",
        "print('Time to reach max height=',tmax)\n",
        "\n",
        "y = vo*t-g*t**2/2\n",
        "# substitute tmax in y(t) to find ymax\n",
        "print('Max height reached = ',y.subs(t,tmax))"
      ]
    },
    {
      "cell_type": "markdown",
      "metadata": {
        "id": "TapOk-UFijJK"
      },
      "source": [
        "Example 1.18: Example of using the lambdify function"
      ]
    },
    {
      "cell_type": "code",
      "execution_count": null,
      "metadata": {
        "id": "guGtyNi9ijJK",
        "outputId": "696bab9a-a2e0-4e6d-ea9a-30d66f57c576"
      },
      "outputs": [
        {
          "name": "stdout",
          "output_type": "stream",
          "text": [
            "---------------------------- CODE OUTPUT ----------------------------- \n",
            "\n",
            "Symbolic Derivative v=dy/dt:  a*b*cos(b*t)\n"
          ]
        },
        {
          "data": {
            "image/png": "[encoded data removed]",
            "text/plain": [
              "<Figure size 640x480 with 2 Axes>"
            ]
          },
          "metadata": {},
          "output_type": "display_data"
        }
      ],
      "source": [
        "import matplotlib.pyplot as plt\n",
        "import numpy as np\n",
        "from sympy import symbols, sin, diff\n",
        "from sympy.utilities.lambdify import lambdify\n",
        "\n",
        "print('-'*28,'CODE OUTPUT','-'*29,'\\n')\n",
        "\n",
        "a, b, t = symbols('a,b,t',real=True) # define symbols\n",
        "\n",
        "f = a*sin(b*t)\n",
        "deriv = diff( f,t)                   # evaluate symbolic derivarive of f\n",
        "print('Symbolic Derivative v=dy/dt: ',deriv)\n",
        "\n",
        "tims = np.linspace(0,6,50)         # sequence of times tims\n",
        "\n",
        "y = lambdify(t,f.subs({a:1,b:2}))    # substitute a=1 and b=2 in f\n",
        "\n",
        "# plot y(t) and v(t)\n",
        "plt.subplot(1,2,1)\n",
        "plt.plot(tims,y(tims))\n",
        "plt.xlabel('Time [s]')\n",
        "plt.ylabel('y(t)')\n",
        "\n",
        "u = deriv.subs({a:1,b:2})    # substitute a=1 and b=2 in deriv\n",
        "v = lambdify(t,u)            # lambdify creates derivative function v(t)\n",
        "\n",
        "plt.subplot(1,2,2)\n",
        "plt.plot(tims,v(tims))\n",
        "plt.xlabel('Time [s]')\n",
        "plt.ylabel('Speed v(t)=dy/dt')\n",
        "plt.tight_layout()\n",
        "plt.show()"
      ]
    },
    {
      "cell_type": "code",
      "execution_count": null,
      "metadata": {
        "id": "gW8WDXPnijJK"
      },
      "outputs": [],
      "source": []
    }
  ],
  "metadata": {
    "kernelspec": {
      "display_name": "Python 3.7.16 ('base')",
      "language": "python",
      "name": "python3"
    },
    "language_info": {
      "codemirror_mode": {
        "name": "ipython",
        "version": 3
      },
      "file_extension": ".py",
      "mimetype": "text/x-python",
      "name": "python",
      "nbconvert_exporter": "python",
      "pygments_lexer": "ipython3",
      "version": "3.7.16"
    },
    "orig_nbformat": 4,
    "vscode": {
      "interpreter": {
        "hash": "509d05def373b697fdb010a6aa02fbb88284043a56880425e3dd344f44325f75"
      }
    },
    "colab": {
      "provenance": [],
      "include_colab_link": true
    }
  },
  "nbformat": 4,
  "nbformat_minor": 0
}