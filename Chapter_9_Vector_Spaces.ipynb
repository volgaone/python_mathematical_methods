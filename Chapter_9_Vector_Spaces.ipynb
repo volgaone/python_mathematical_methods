{
  "cells": [
    {
      "cell_type": "markdown",
      "metadata": {
        "id": "view-in-github",
        "colab_type": "text"
      },
      "source": [
        "<a href=\"https://colab.research.google.com/github/vpagonis/CRCbook/blob/main/Chapter_9_Vector_Spaces.ipynb\" target=\"_parent\"><img src=\"https://colab.research.google.com/assets/colab-badge.svg\" alt=\"Open In Colab\"/></a>"
      ]
    },
    {
      "cell_type": "markdown",
      "metadata": {
        "id": "YL04qwxVlIVI"
      },
      "source": [
        "# Chapter 9 - Vector Spaces"
      ]
    },
    {
      "cell_type": "markdown",
      "metadata": {
        "id": "57RaaWM3lIVK"
      },
      "source": [
        "This notebook contains the code for the example problems found in Chapter 9."
      ]
    },
    {
      "cell_type": "markdown",
      "metadata": {
        "id": "X4TdvQz0lIVL"
      },
      "source": [
        "Example 9.1: Linear independence of vectors"
      ]
    },
    {
      "cell_type": "code",
      "execution_count": null,
      "metadata": {
        "id": "YWTGqMX_lIVL",
        "outputId": "1097caaa-5a62-416a-8a84-9832d8abd642"
      },
      "outputs": [
        {
          "name": "stdout",
          "output_type": "stream",
          "text": [
            "---------------------------- CODE OUTPUT ----------------------------- \n",
            "\n",
            "The determinant of A in part (a) is =  -3\n",
            "\n",
            "The determinant of A in part (b) is =  0\n",
            "\n",
            "The coefficients are:  {c2: -7*c3/5, c1: 2*c3/5}\n"
          ]
        }
      ],
      "source": [
        "from sympy import Matrix, solve, symbols\n",
        "\n",
        "c1, c2, c3 = symbols('c1, c2, c3')\n",
        "\n",
        "print('-'*28,'CODE OUTPUT','-'*29,'\\n')\n",
        "\n",
        "# part (a)\n",
        "A = Matrix([[1,1,-1],[0,1,1],[-1,1,0]])\n",
        "\n",
        "print('The determinant of A in part (a) is = ', A.det())\n",
        "\n",
        "# part (b)\n",
        "A = Matrix([[1,1,1],[14,-1,-7],[-3,2,4]])\n",
        "\n",
        "coeffs = solve([c1 + c2 + c3,  14*c1 - c2 -7*c3,\\\n",
        "   -3*c1 + 2*c2 + 4*c3 ],[c1,c2,c3])\n",
        "\n",
        "print('\\nThe determinant of A in part (b) is = ', A.det())\n",
        "print('\\nThe coefficients are: ', coeffs)"
      ]
    },
    {
      "cell_type": "markdown",
      "metadata": {
        "id": "4LQngsS9lIVN"
      },
      "source": [
        "Example 9.2: The Gram-Schmidt method"
      ]
    },
    {
      "cell_type": "code",
      "execution_count": null,
      "metadata": {
        "id": "7X3BTLwdlIVN",
        "outputId": "2f8bba92-5d3f-4b78-a085-97abca2504bd"
      },
      "outputs": [
        {
          "name": "stdout",
          "output_type": "stream",
          "text": [
            "---------------------------- CODE OUTPUT ----------------------------- \n",
            "\n",
            "The SymPy command GramSchmidt produces:\n",
            "Matrix([[0], [0], [0], [1]])\n",
            "Matrix([[1], [0], [0], [0]])\n",
            "Matrix([[0], [3/5], [4/5], [0]])\n",
            "\n",
            " The NumPy method produces:\n",
            "[0. 0. 0. 1.]\n",
            "[1. 0. 0. 0.]\n",
            "[0.  0.6 0.8 0. ]\n"
          ]
        }
      ],
      "source": [
        "import numpy as np\n",
        "from sympy.matrices import Matrix, GramSchmidt\n",
        "\n",
        "#NumPy method\n",
        "a1 = np.array([0,0,0,3])\n",
        "a2 = np.array([2,0,0,4])\n",
        "a3 = np.array([1,3,4,2])\n",
        "\n",
        "e1 = a1/np.linalg.norm(a1)\n",
        "\n",
        "e2_numerator = a2 - e1*np.dot(e1,a2)\n",
        "e2 = e2_numerator/np.linalg.norm(e2_numerator)\n",
        "\n",
        "e3_numerator = a3 - e1*np.dot(e1,a3) - e2*np.dot(e2,a3)\n",
        "e3 = e3_numerator/np.linalg.norm(e3_numerator)\n",
        "\n",
        "#SymPy Method\n",
        "\n",
        "a = [Matrix([0,0,0,3]), Matrix([2,0,0,4]), Matrix([1,3,4,2])]\n",
        "GS = GramSchmidt(a,True)\n",
        "\n",
        "print('-'*28,'CODE OUTPUT','-'*29,'\\n')\n",
        "print('The SymPy command GramSchmidt produces:')\n",
        "for i in GS:\n",
        "    print(i)\n",
        "\n",
        "print('\\n The NumPy method produces:')\n",
        "print(e1)\n",
        "print(e2)\n",
        "print(e3)"
      ]
    },
    {
      "cell_type": "markdown",
      "metadata": {
        "id": "ld2eSaKClIVO"
      },
      "source": [
        "Example 9.3: The Wronskian"
      ]
    },
    {
      "cell_type": "code",
      "execution_count": null,
      "metadata": {
        "id": "WxHho35HlIVP",
        "outputId": "a1ade89f-750d-4be9-df8a-c0601ea813a9"
      },
      "outputs": [
        {
          "name": "stdout",
          "output_type": "stream",
          "text": [
            "---------------------------- CODE OUTPUT ----------------------------- \n",
            "\n",
            "The Wronskian =  0\n"
          ]
        }
      ],
      "source": [
        "from sympy import symbols, exp, sin, cos, I\n",
        "from sympy.matrices.dense import wronskian\n",
        "\n",
        "x = symbols('x')\n",
        "\n",
        "W = wronskian([exp(I*x),exp(-I*x),sin(x),cos(x)],x)\n",
        "\n",
        "print('-'*28,'CODE OUTPUT','-'*29,'\\n')\n",
        "print('The Wronskian = ', W)"
      ]
    },
    {
      "cell_type": "markdown",
      "metadata": {
        "id": "U9yMd_-2lIVP"
      },
      "source": [
        "Example 9.4: Hermite polynomials"
      ]
    },
    {
      "cell_type": "code",
      "execution_count": null,
      "metadata": {
        "id": "DA2GQ-VJlIVP",
        "outputId": "c153d51d-086e-4e7b-c004-7e88a07667df"
      },
      "outputs": [
        {
          "name": "stdout",
          "output_type": "stream",
          "text": [
            "---------------------------- CODE OUTPUT ----------------------------- \n",
            "\n",
            "H_0(x) =  1\n",
            "H_1(x) =  2*x\n",
            "H_2(x) =  4*x**2 - 2\n",
            "\n",
            "The ortogonality relationships are:\n",
            "H0-H0 =  sqrt(pi)\n",
            "H0-H1 =  0\n",
            "H0-H2 =  0\n",
            "H1-H1 =  2*sqrt(pi)\n",
            "H1-H2 =  0\n",
            "H2-H2 =  8*sqrt(pi)\n"
          ]
        }
      ],
      "source": [
        "from sympy import symbols, integrate, oo, exp\n",
        "from sympy.polys.orthopolys import hermite_poly\n",
        "\n",
        "x = symbols('x')\n",
        "\n",
        "def ortho(n,m):\n",
        "    return integrate(exp(-x**2)*hermite_poly(n,x)*hermite_poly(m,x),(x,-oo,oo))\n",
        "\n",
        "print('-'*28,'CODE OUTPUT','-'*29,'\\n')\n",
        "print('H_0(x) = ', hermite_poly(0,x))\n",
        "print('H_1(x) = ', hermite_poly(1,x))\n",
        "print('H_2(x) = ', hermite_poly(2,x))\n",
        "\n",
        "print('\\nThe ortogonality relationships are:')\n",
        "print('H0-H0 = ', ortho(0,0))\n",
        "print('H0-H1 = ', ortho(0,1))\n",
        "print('H0-H2 = ', ortho(0,2))\n",
        "print('H1-H1 = ', ortho(1,1))\n",
        "print('H1-H2 = ', ortho(1,2))\n",
        "print('H2-H2 = ', ortho(2,2))"
      ]
    },
    {
      "cell_type": "markdown",
      "metadata": {
        "id": "e1hhyX4DlIVQ"
      },
      "source": [
        "Example 9.5: Basis functions"
      ]
    },
    {
      "cell_type": "code",
      "execution_count": null,
      "metadata": {
        "id": "IkPxNRF_lIVQ",
        "outputId": "ed3cceb9-0ee5-4929-d595-120cce030b1b"
      },
      "outputs": [
        {
          "name": "stdout",
          "output_type": "stream",
          "text": [
            "---------------------------- CODE OUTPUT ----------------------------- \n",
            "\n",
            "The Wronskian =  2\n"
          ]
        }
      ],
      "source": [
        "from sympy import symbols\n",
        "from sympy.matrices.dense import wronskian\n",
        "\n",
        "x = symbols('x')\n",
        "\n",
        "W = wronskian([1,x,x**2],x)\n",
        "\n",
        "print('-'*28,'CODE OUTPUT','-'*29,'\\n')\n",
        "print('The Wronskian = ', W)"
      ]
    },
    {
      "cell_type": "markdown",
      "metadata": {
        "id": "qMwAnh7SlIVQ"
      },
      "source": [
        "Example 9.6: The Gram-Schmidt method for functions"
      ]
    },
    {
      "cell_type": "code",
      "execution_count": null,
      "metadata": {
        "id": "qHQhgv-ulIVR",
        "outputId": "f6158433-5d25-4726-b3e4-a09149392f81"
      },
      "outputs": [
        {
          "name": "stdout",
          "output_type": "stream",
          "text": [
            "---------------------------- CODE OUTPUT ----------------------------- \n",
            "\n",
            "e0 =  sqrt(2)/2\n",
            "e1 =  sqrt(6)*x/2\n",
            "e2 =  3*sqrt(10)*(x**2 - 1/3)/4\n"
          ]
        }
      ],
      "source": [
        "from sympy import symbols, integrate, sqrt\n",
        "\n",
        "x = symbols('x')\n",
        "\n",
        "f0, f1, f2 = 1, x, x**2\n",
        "\n",
        "def inner_prod(g1,g2):\n",
        "    return integrate(g1*g2,(x,-1,1))\n",
        "\n",
        "e0 = f0/sqrt(inner_prod(f0,f0))\n",
        "\n",
        "e1_num = f1 - e0*inner_prod(e0,f1)\n",
        "e1 = e1_num/sqrt(inner_prod(e1_num,e1_num))\n",
        "\n",
        "e2_num = f2 - e0*inner_prod(e0,f2) - e1*inner_prod(e1,f2)\n",
        "e2 = e2_num/sqrt(inner_prod(e2_num,e2_num))\n",
        "\n",
        "print('-'*28,'CODE OUTPUT','-'*29,'\\n')\n",
        "print('e0 = ', e0)\n",
        "print('e1 = ', e1)\n",
        "print('e2 = ', e2)"
      ]
    }
  ],
  "metadata": {
    "kernelspec": {
      "display_name": "Python 3.7.16 ('base')",
      "language": "python",
      "name": "python3"
    },
    "language_info": {
      "codemirror_mode": {
        "name": "ipython",
        "version": 3
      },
      "file_extension": ".py",
      "mimetype": "text/x-python",
      "name": "python",
      "nbconvert_exporter": "python",
      "pygments_lexer": "ipython3",
      "version": "3.7.16"
    },
    "orig_nbformat": 4,
    "vscode": {
      "interpreter": {
        "hash": "509d05def373b697fdb010a6aa02fbb88284043a56880425e3dd344f44325f75"
      }
    },
    "colab": {
      "provenance": [],
      "include_colab_link": true
    }
  },
  "nbformat": 4,
  "nbformat_minor": 0
}