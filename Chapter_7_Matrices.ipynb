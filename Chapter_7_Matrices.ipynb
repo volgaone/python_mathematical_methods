{
  "cells": [
    {
      "cell_type": "markdown",
      "metadata": {
        "id": "view-in-github",
        "colab_type": "text"
      },
      "source": [
        "<a href=\"https://colab.research.google.com/github/vpagonis/CRCbook/blob/main/Chapter_7_Matrices.ipynb\" target=\"_parent\"><img src=\"https://colab.research.google.com/assets/colab-badge.svg\" alt=\"Open In Colab\"/></a>"
      ]
    },
    {
      "cell_type": "markdown",
      "metadata": {
        "id": "GfqKuB9tkvh5"
      },
      "source": [
        "# Chapter 7 - Matrices"
      ]
    },
    {
      "cell_type": "markdown",
      "metadata": {
        "id": "qCCZn1qrkvh7"
      },
      "source": [
        "This notebook contains the code for the example problems found in Chapter 7."
      ]
    },
    {
      "cell_type": "markdown",
      "metadata": {
        "id": "OrcAQmyBkvh7"
      },
      "source": [
        "Example 7.1: Matrices in Python"
      ]
    },
    {
      "cell_type": "code",
      "execution_count": null,
      "metadata": {
        "id": "TA7qte6lkvh7",
        "outputId": "5fceddbe-4dbf-4ad0-8c33-a7de087d8c48"
      },
      "outputs": [
        {
          "name": "stdout",
          "output_type": "stream",
          "text": [
            "---------------------------- CODE OUTPUT ----------------------------- \n",
            "\n",
            "A_23 element of matrix is:  2\n",
            "B_12 element of matrix is:  -sin(p)\n"
          ]
        }
      ],
      "source": [
        "import numpy as np\n",
        "from sympy import Matrix, sin, cos, symbols\n",
        "\n",
        "A = np.array([[4, -1, 3],[5, 7, 2]])\n",
        "\n",
        "p = symbols('p')\n",
        "B = Matrix([[cos(p),-sin(p)],[sin(p),cos(p)]])\n",
        "\n",
        "C_numpy = np.array([[1],[-1],[3]])\n",
        "C_sympy = Matrix([[1],[-1],[3]])\n",
        "\n",
        "print('-'*28,'CODE OUTPUT','-'*29,'\\n')\n",
        "print('A_23 element of matrix is: ',A[1,2])\n",
        "print('B_12 element of matrix is: ',B[0,1])"
      ]
    },
    {
      "cell_type": "markdown",
      "metadata": {
        "id": "1sJly6dSkvh9"
      },
      "source": [
        "Example 7.2: Rotation of vectors with matrices"
      ]
    },
    {
      "cell_type": "code",
      "execution_count": null,
      "metadata": {
        "id": "wYirALXvkvh9",
        "outputId": "087dee52-1adf-4a20-df39-5727c1118931"
      },
      "outputs": [
        {
          "name": "stdout",
          "output_type": "stream",
          "text": [
            "---------------------------- CODE OUTPUT ----------------------------- \n",
            "\n",
            "The rotational matrix for two rotations is:\n",
            "Matrix([\n",
            "[cos(phi1 + phi2), -sin(phi1 + phi2)],\n",
            "[sin(phi1 + phi2),  cos(phi1 + phi2)]])\n"
          ]
        }
      ],
      "source": [
        "from sympy import Matrix, sin, cos, symbols, simplify\n",
        "import pprint\n",
        "\n",
        "phi1, phi2 = symbols('phi1, phi2')\n",
        "\n",
        "R1 = Matrix([[cos(phi1),-sin(phi1)],[sin(phi1),cos(phi1)]])\n",
        "R2 = Matrix([[cos(phi2),-sin(phi2)],[sin(phi2),cos(phi2)]])\n",
        "R = R1 @ R2\n",
        "\n",
        "print('-'*28,'CODE OUTPUT','-'*29,'\\n')\n",
        "pp = pprint.PrettyPrinter(width=41, compact=True)\n",
        "\n",
        "print('The rotational matrix for two rotations is:')\n",
        "pp.pprint(simplify(R))"
      ]
    },
    {
      "cell_type": "markdown",
      "metadata": {
        "id": "ONF3tvwQkvh9"
      },
      "source": [
        "Example 7.3: The Pauli matrices"
      ]
    },
    {
      "cell_type": "code",
      "execution_count": null,
      "metadata": {
        "id": "xtCAWxugkvh9",
        "outputId": "2062e107-c946-46a1-c032-f31ff27d6c1b"
      },
      "outputs": [
        {
          "name": "stdout",
          "output_type": "stream",
          "text": [
            "---------------------------- CODE OUTPUT ----------------------------- \n",
            "\n",
            "\n",
            "Is s_x Hermitian?  True\n",
            "Is s_y Hermitian?  True\n",
            "Is s_z Hermitian?  True\n",
            "\n",
            "The commutator [s_x,s_y] = [[2.0*I, 0], [0, -2.0*I]]\n",
            "\n",
            "The equation [s_x, s_y] = 2i*s_z is  True\n"
          ]
        }
      ],
      "source": [
        "import numpy as np\n",
        "from sympy import simplify\n",
        "print('-'*28,'CODE OUTPUT','-'*29,'\\n')\n",
        "\n",
        "s_x = np.array([[0,1],[1,0]])\n",
        "s_y = np.array([[0,-1j],[1j,0]])\n",
        "s_z = np.array([[1,0],[0,-1]])\n",
        "\n",
        "s_x_dagger = np.conjugate(np.transpose(s_x))\n",
        "s_y_dagger = np.conjugate(np.transpose(s_y))\n",
        "s_z_dagger = np.conjugate(np.transpose(s_z))\n",
        "\n",
        "print('\\nIs s_x Hermitian? ', np.array_equal(s_x, s_x_dagger))\n",
        "print('Is s_y Hermitian? ', np.array_equal(s_y, s_y_dagger))\n",
        "print('Is s_z Hermitian? ', np.array_equal(s_z, s_z_dagger))\n",
        "\n",
        "commut = simplify(s_x @ s_y - s_y @ s_x )\n",
        "print('\\nThe commutator [s_x,s_y] =', commut)\n",
        "\n",
        "print( '\\nThe equation [s_x, s_y] = 2i*s_z is ',\\\n",
        "  np.array_equal(s_x @ s_y - s_y @ s_x, 2j* s_z ))"
      ]
    },
    {
      "cell_type": "markdown",
      "metadata": {
        "id": "k8fCczJ7kvh9"
      },
      "source": [
        "Example 7.4: The determinant of a $3\\times 3$ matrix"
      ]
    },
    {
      "cell_type": "code",
      "execution_count": null,
      "metadata": {
        "id": "mlEQqYHakvh-",
        "outputId": "b76a3b03-ebdc-4276-91f6-207d1535f768"
      },
      "outputs": [
        {
          "name": "stdout",
          "output_type": "stream",
          "text": [
            "---------------------------- CODE OUTPUT ----------------------------- \n",
            "\n",
            "Using NumPy in part (a), the det(C)= 17.0\n",
            "\n",
            " A =\n",
            "\n",
            " B =\n",
            "\n",
            " The identity det(AB)=det(A)det(B) is:  True\n"
          ]
        }
      ],
      "source": [
        "from sympy import MatrixSymbol\n",
        "from numpy import array, array_equal, linalg\n",
        "\n",
        "print('-'*28,'CODE OUTPUT','-'*29,'\\n')\n",
        "\n",
        "# PART (a): use NumPy to find determinant\n",
        "C = array([[2,3,-1], [1,4,-2], [5,9,0]])\n",
        "\n",
        "print('Using NumPy in part (a), the det(C)=',linalg.det(C))\n",
        "\n",
        "# PART (b): Create (3x3) symbolic matrices with symbols A, B\n",
        "A = MatrixSymbol('A', 3, 3)\n",
        "B = MatrixSymbol('B', 3, 3)\n",
        "\n",
        "# make symbolic matrices into mutable matrices with explicit elements\n",
        "Am = A.as_mutable()\n",
        "Bm = B.as_mutable()\n",
        "print('\\n A =')\n",
        "Am\n",
        "print('\\n B =')\n",
        "Bm\n",
        "print('\\n The identity det(AB)=det(A)det(B) is: ',\\\n",
        "      array_equal(Am.det()*Bm.det(),Bm.det()*Am.det()))"
      ]
    },
    {
      "cell_type": "markdown",
      "metadata": {
        "id": "Lr9zrb3Lkvh-"
      },
      "source": [
        "Example 7.5: The Lorenz force"
      ]
    },
    {
      "cell_type": "code",
      "execution_count": null,
      "metadata": {
        "id": "tah_5_81kvh-",
        "outputId": "7bc46921-5f7f-440c-cd95-18892d39733c"
      },
      "outputs": [
        {
          "name": "stdout",
          "output_type": "stream",
          "text": [
            "---------------------------- CODE OUTPUT ----------------------------- \n",
            "\n",
            "The Lorenz force is F=\n",
            "[q*(-By*vz + Bz*vy) q*(Bx*vz - Bz*vx) q*(-Bx*vy + By*vx)]\n",
            "\n",
            "Fx =  q*(-By*vz + Bz*vy)\n",
            "Fy =  q*(Bx*vz - Bz*vx)\n",
            "Fz =  q*(-Bx*vy + By*vx)\n"
          ]
        }
      ],
      "source": [
        "from numpy import array, cross\n",
        "from sympy import symbols\n",
        "\n",
        "print('-'*28,'CODE OUTPUT','-'*29,'\\n')\n",
        "\n",
        "Bx, By, Bz, vx, vy, vz, q = symbols('Bx, By, Bz, vx, vy, vz, q')\n",
        "\n",
        "B = array([Bx, By, Bz])\n",
        "v = array([vx, vy, vz])\n",
        "\n",
        "F = q * cross(v,B)\n",
        "print('The Lorenz force is F=')\n",
        "print(F)\n",
        "\n",
        "print('\\nFx = ',F[0])\n",
        "print('Fy = ',F[1])\n",
        "print('Fz = ',F[2])"
      ]
    },
    {
      "cell_type": "markdown",
      "metadata": {
        "id": "b2fxSmVSkvh-"
      },
      "source": [
        "Example 7.6: Using the Jacobian to find the area of an ellipse"
      ]
    },
    {
      "cell_type": "code",
      "execution_count": null,
      "metadata": {
        "id": "CqwuOcq2kvh-",
        "outputId": "deeaf34c-a068-4b28-dfc9-65e573f5214f"
      },
      "outputs": [
        {
          "name": "stdout",
          "output_type": "stream",
          "text": [
            "---------------------------- CODE OUTPUT ----------------------------- \n",
            "\n",
            "Jacobian determinant J(x,y) =  a*b \n",
            "\n",
            "Area of ellipse A =  pi*a*b\n"
          ]
        }
      ],
      "source": [
        "from sympy import symbols, integrate, diff, pi, simplify, sqrt\n",
        "print('-'*28,'CODE OUTPUT','-'*29,'\\n')\n",
        "\n",
        "x, y, a, b, xprime, yprime = symbols('x, y, a, b, xprime, yprime',\\\n",
        "real=True)  #  symbols\n",
        "\n",
        "x = a*xprime\n",
        "y = b*yprime\n",
        "\n",
        "J = diff(x,xprime)*diff(y,yprime)-diff(x,yprime)*diff(y,yprime)\n",
        "print('Jacobian determinant J(x,y) = ',simplify(J),'\\n')\n",
        "\n",
        "A = integrate(4*J,(yprime,0,sqrt(1-xprime**2)),(xprime,0,1),)\n",
        "print('Area of ellipse A = ',A)"
      ]
    },
    {
      "cell_type": "markdown",
      "metadata": {
        "id": "0qY6tcdVkvh-"
      },
      "source": [
        "Example 7.7: The inverse of a matrix"
      ]
    },
    {
      "cell_type": "code",
      "execution_count": null,
      "metadata": {
        "id": "_ElYhnyHkvh_",
        "outputId": "fc2a4b21-095f-46b4-8497-554410d8a689"
      },
      "outputs": [
        {
          "name": "stdout",
          "output_type": "stream",
          "text": [
            "---------------------------- CODE OUTPUT ----------------------------- \n",
            "\n",
            "The determinant of A = a*d - b*c\n",
            "\n",
            " The inverse of A is: \n",
            "Matrix([\n",
            "[ d/(a*d - b*c), -b/(a*d - b*c)],\n",
            "[-c/(a*d - b*c),  a/(a*d - b*c)]])\n",
            "\n",
            " The product inverseA*A is\n",
            "Matrix([[1, 0], [0, 1]])\n",
            "\n",
            " The solution of the system is:\n",
            "x = (-b*f + d*e)/(a*d - b*c)\n",
            "y = (a*f - c*e)/(a*d - b*c)\n"
          ]
        }
      ],
      "source": [
        "from sympy import symbols, Matrix, simplify, solve\n",
        "import pprint\n",
        "\n",
        "print('-'*28,'CODE OUTPUT','-'*29,'\\n')\n",
        "\n",
        "pp = pprint.PrettyPrinter(width=41, compact=True)\n",
        "\n",
        "a, b, c, d, e, f, x, y = symbols('a, b, c, d, e, f, x, y')\n",
        "A = Matrix([[a,b],[c,d]])\n",
        "\n",
        "det = A.det()\n",
        "inverse = A.inv()\n",
        "\n",
        "print('The determinant of A =', det)\n",
        "\n",
        "print('\\n The inverse of A is: ')\n",
        "pp.pprint(inverse)\n",
        "\n",
        "print('\\n The product inverseA*A is')\n",
        "print(simplify(inverse*A))\n",
        "\n",
        "sol=solve([a*x+b*y-e,c*x+d*y-f],(x,y))\n",
        "print('\\n The solution of the system is:')\n",
        "print('x =',sol[x])\n",
        "print('y =',sol[y])"
      ]
    },
    {
      "cell_type": "markdown",
      "metadata": {
        "id": "Q0b9JzJfkvh_"
      },
      "source": [
        "Example 7.8: Kirchhoff's laws"
      ]
    },
    {
      "cell_type": "code",
      "execution_count": null,
      "metadata": {
        "id": "iIie9dqBkvh_",
        "outputId": "d7399991-6735-4a37-f2eb-c780e70a47d8"
      },
      "outputs": [
        {
          "name": "stdout",
          "output_type": "stream",
          "text": [
            "---------------------------- CODE OUTPUT ----------------------------- \n",
            "\n",
            "The reduced matrix is:\n",
            "Matrix([[1, 0, 0, 35/11], [0, 1, 0, 10/11], [0, 0, 1, 25/11]])\n",
            "\n",
            "Current i1 = 35/11\n",
            "Current i2 = 10/11\n",
            "Current i3 = 25/11\n"
          ]
        }
      ],
      "source": [
        "from sympy import Matrix\n",
        "\n",
        "A = Matrix([[1,2,0,5],[0,2,-3,-5],[1,-1,-1,0]])\n",
        "\n",
        "print('-'*28,'CODE OUTPUT','-'*29,'\\n')\n",
        "Ared=A.rref()[0]\n",
        "\n",
        "print('The reduced matrix is:')\n",
        "print(Ared)\n",
        "\n",
        "print('\\nCurrent i1 =', Ared[0,3])\n",
        "print('Current i2 =', Ared[1,3])\n",
        "print('Current i3 =', Ared[2,3])"
      ]
    },
    {
      "cell_type": "markdown",
      "metadata": {
        "id": "LO4y_aDEkvh_"
      },
      "source": [
        "Example 7.9: The normal modes of a two-mass  three-spring system"
      ]
    },
    {
      "cell_type": "code",
      "execution_count": null,
      "metadata": {
        "id": "FqPbiayjkvh_",
        "outputId": "b99183f5-de5e-4f87-e488-8d66fd83418e"
      },
      "outputs": [
        {
          "name": "stdout",
          "output_type": "stream",
          "text": [
            "---------------------------- CODE OUTPUT ----------------------------- \n",
            "\n",
            "The matrix of coefficients for A1, A2 is:\n",
            "\n",
            "Matrix([\n",
            "[2*k - m*omega**2,               -k],\n",
            "[              -k, 2*k - m*omega**2]])\n",
            "\n",
            "Natural frequency omega1 =  -sqrt(3)*sqrt(k/m)\n",
            "Natural frequency omega2 =  sqrt(3)*sqrt(k/m)\n",
            "\n",
            "Natural frequency omega3 =  -sqrt(k/m)\n",
            "Natural frequency omega4 =  sqrt(k/m)\n"
          ]
        }
      ],
      "source": [
        "from sympy import symbols, exp, I, diff, solve, expand, symbols,  Matrix\n",
        "import pprint\n",
        "pp = pprint.PrettyPrinter(width=41, compact=True)\n",
        "\n",
        "k, m, omega, x1, x2, A1, A2, t = \\\n",
        "symbols(\"k, m, omega, x1, x2, A1, A2, t\")\n",
        "#  define all symbols for variables\n",
        "\n",
        "print('-'*28,'CODE OUTPUT','-'*29,'\\n')\n",
        "\n",
        "# define x1 and x2 as complex exponentials\n",
        "x1 = A1*exp(I*omega*t)\n",
        "x2 = A2*exp(I*omega*t)\n",
        "\n",
        "# differential equations for x1, x2 divided by exp(I*omega*t)\n",
        "# use expand to get rid of parentheses\n",
        "eq1 = expand((m*diff(x1,t,t)+k*x1+k*(x1-x2))/exp(I*omega*t))\n",
        "eq2 = expand((m*diff(x2,t,t)+k*x2+k*(x2-x1))/exp(I*omega*t))\n",
        "\n",
        "# Matrix A has coeffcients of A1, A2 in the system of equations\n",
        "A = Matrix([[eq1.coeff(A1),eq1.coeff(A2)], [eq2.coeff(A1),eq2.coeff(A2)]])\n",
        "\n",
        "print('The matrix of coefficients for A1, A2 is:\\n')\n",
        "pp.pprint(A)\n",
        "\n",
        "# set determinant det(A)=0 and solve for omega\n",
        "sol = solve(A.det(),omega)\n",
        "\n",
        "# print natural frequencies omega1, omega2, omega3, omega4\n",
        "print('\\nNatural frequency omega1 = ',sol[0])\n",
        "print('Natural frequency omega2 = ',sol[1])\n",
        "print('\\nNatural frequency omega3 = ',sol[2])\n",
        "print('Natural frequency omega4 = ',sol[3])"
      ]
    },
    {
      "cell_type": "markdown",
      "metadata": {
        "id": "2XH7DDhhkvh_"
      },
      "source": [
        "Example 7.10: The rotation matrix"
      ]
    },
    {
      "cell_type": "code",
      "execution_count": null,
      "metadata": {
        "id": "YslJE1zUkvh_",
        "outputId": "b60ba7a3-b147-4c98-c087-1b327491c3d8"
      },
      "outputs": [
        {
          "name": "stdout",
          "output_type": "stream",
          "text": [
            "---------------------------- CODE OUTPUT ----------------------------- \n",
            "\n",
            "The rotated vector v =\n",
            "Matrix([\n",
            "[vx*cos(p) - vy*sin(p)],\n",
            "[vx*sin(p) + vy*cos(p)]])\n",
            "\n",
            " The determinant of R= 1\n",
            "\n",
            " The determinant of R =\n",
            "Matrix([\n",
            "[ cos(p), sin(p)],\n",
            "[-sin(p), cos(p)]])\n",
            "\n",
            " The product of Rinverse @ R =\n",
            "Matrix([\n",
            "[1, 0],\n",
            "[0, 1]])\n",
            "\n",
            " The magnitude of v' = vx**2 + vy**2\n"
          ]
        }
      ],
      "source": [
        "from sympy import Matrix, simplify, cos, sin, symbols\n",
        "import pprint\n",
        "pp = pprint.PrettyPrinter(width=41, compact=True)\n",
        "\n",
        "print('-'*28,'CODE OUTPUT','-'*29,'\\n')\n",
        "\n",
        "p, vx, vy = symbols('p, vx, vy')\n",
        "\n",
        "R = Matrix([[cos(p),-sin(p)],[sin(p),cos(p)]])\n",
        "v = Matrix([vx,vy])\n",
        "\n",
        "vprime = R @ v\n",
        "print('The rotated vector v =')\n",
        "pp.pprint(vprime)\n",
        "\n",
        "print('\\n The determinant of R=',simplify(R.det()))\n",
        "\n",
        "Rinv = R.inv()\n",
        "print('\\n The determinant of R =')\n",
        "pp.pprint(simplify(Rinv))\n",
        "\n",
        "print('\\n The product of Rinverse @ R =')\n",
        "pp.pprint(simplify(Rinv @ R))\n",
        "\n",
        "print(\"\\n The magnitude of v' =\",simplify(vprime[0]**2+vprime[1]**2))"
      ]
    },
    {
      "cell_type": "markdown",
      "metadata": {
        "id": "f5OyvWyzkviA"
      },
      "source": [
        "Example 7.11: The eigenvalues and eigenvectors of a $2 \\times 2$ matrix"
      ]
    },
    {
      "cell_type": "code",
      "execution_count": null,
      "metadata": {
        "id": "CMkYwGo_kviA",
        "outputId": "80b5fa21-fa30-4ec0-c5a3-422261141211"
      },
      "outputs": [
        {
          "name": "stdout",
          "output_type": "stream",
          "text": [
            "---------------------------- CODE OUTPUT ----------------------------- \n",
            "\n",
            "The eigenvalues are: \n",
            "{3: 1, -1: 1}\n",
            "\n",
            "The eigenvectors are:\n",
            " [Matrix([\n",
            "[-1],\n",
            "[ 1]])]\n",
            "\n",
            " [Matrix([\n",
            "[1],\n",
            "[1]])]\n"
          ]
        }
      ],
      "source": [
        "from sympy import Matrix\n",
        "\n",
        "A = Matrix([[1,2],[2,1]])\n",
        "\n",
        "print('-'*28,'CODE OUTPUT','-'*29,'\\n')\n",
        "\n",
        "print('The eigenvalues are: ')\n",
        "print(A.eigenvals())\n",
        "\n",
        "print('\\nThe eigenvectors are:\\n',A.eigenvects()[0][2])\n",
        "print('\\n',A.eigenvects()[1][2])"
      ]
    },
    {
      "cell_type": "markdown",
      "metadata": {
        "id": "WXVDFsVMkviA"
      },
      "source": [
        "Example 7.12: The inertia tensor of a cube"
      ]
    },
    {
      "cell_type": "code",
      "execution_count": null,
      "metadata": {
        "id": "HNYcfyaXkviA",
        "outputId": "cd49accf-0f84-46b9-de3c-33c2533fcf75"
      },
      "outputs": [
        {
          "name": "stdout",
          "output_type": "stream",
          "text": [
            "---------------------------- CODE OUTPUT ----------------------------- \n",
            "\n",
            "\n",
            "The eigenvalues are: \n",
            "{2*c: 1, 11*c: 2}\n",
            "\n",
            " The eigenvectors are:\n",
            "Matrix([[1], [1], [1]])\n",
            "Matrix([[-1], [1], [0]])\n",
            "Matrix([[-1], [0], [1]])\n"
          ]
        }
      ],
      "source": [
        "from sympy import Matrix, symbols\n",
        "\n",
        "c = symbols('c')\n",
        "A = Matrix([[8*c,-3*c,-3*c],[-3*c,8*c,-3*c],[-3*c,-3*c,8*c]])\n",
        "\n",
        "print('-'*28,'CODE OUTPUT','-'*29,'\\n')\n",
        "\n",
        "print('\\nThe eigenvalues are: ')\n",
        "print(A.eigenvals())\n",
        "\n",
        "print('\\n The eigenvectors are:')\n",
        "print(A.eigenvects()[0][2][0])\n",
        "print(A.eigenvects()[1][2][0])\n",
        "print(A.eigenvects()[1][2][1])\n"
      ]
    },
    {
      "cell_type": "code",
      "execution_count": null,
      "metadata": {
        "id": "aIgDV-WxkviA"
      },
      "outputs": [],
      "source": []
    }
  ],
  "metadata": {
    "kernelspec": {
      "display_name": "Python 3.7.16 ('base')",
      "language": "python",
      "name": "python3"
    },
    "language_info": {
      "codemirror_mode": {
        "name": "ipython",
        "version": 3
      },
      "file_extension": ".py",
      "mimetype": "text/x-python",
      "name": "python",
      "nbconvert_exporter": "python",
      "pygments_lexer": "ipython3",
      "version": "3.7.16"
    },
    "orig_nbformat": 4,
    "vscode": {
      "interpreter": {
        "hash": "509d05def373b697fdb010a6aa02fbb88284043a56880425e3dd344f44325f75"
      }
    },
    "colab": {
      "provenance": [],
      "include_colab_link": true
    }
  },
  "nbformat": 4,
  "nbformat_minor": 0
}